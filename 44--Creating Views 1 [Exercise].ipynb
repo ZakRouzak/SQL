{
 "cells": [
  {
   "cell_type": "markdown",
   "id": "51b1254d",
   "metadata": {},
   "source": [
    "<div align=\"right\" style=\" font-size: 80%; text-align: center; margin: 0 auto\">\n",
    "<img src=\"https://raw.githubusercontent.com/Explore-AI/Pictures/master/ExploreAI_logos/Logo blue_dark.png\"  style=\"width:25px\" align=\"right\";/>\n",
    "</div>"
   ]
  },
  {
   "cell_type": "markdown",
   "id": "f662d169",
   "metadata": {},
   "source": [
    "# Creating views 1\n",
    "© ExploreAI Academy"
   ]
  },
  {
   "cell_type": "markdown",
   "id": "26af890c",
   "metadata": {},
   "source": [
    "In this exercise, we learn how to create different types of views and how to drop views. \n",
    "\n",
    "Ensure that you have downloaded the database file Chinook.db."
   ]
  },
  {
   "cell_type": "markdown",
   "id": "2d230d14",
   "metadata": {},
   "source": [
    "## Learning objectives\n",
    "\n",
    "By the end of this train, you should be able to:\n",
    "- Create `LOOKUP`, `JOIN`, and `AGGREGATING` views.\n",
    "- Drop a view."
   ]
  },
  {
   "cell_type": "markdown",
   "id": "7fd5e3b8",
   "metadata": {},
   "source": [
    "First, let's load our sample database:"
   ]
  },
  {
   "cell_type": "code",
   "execution_count": 1,
   "id": "2d0d820e",
   "metadata": {},
   "outputs": [],
   "source": [
    "# Load and activate the SQL extension to allow us to execute SQL in a Jupyter notebook.\n",
    "%load_ext sql\n"
   ]
  },
  {
   "cell_type": "code",
   "execution_count": 2,
   "id": "599e3c6c",
   "metadata": {},
   "outputs": [
    {
     "data": {
      "text/plain": [
       "'Connected: @chinook.db'"
      ]
     },
     "execution_count": 2,
     "metadata": {},
     "output_type": "execute_result"
    }
   ],
   "source": [
    "# Load the Chinook database stored in your local machine. \n",
    "# Make sure the file is saved in the same folder as this notebook.\n",
    "%sql sqlite:///chinook.db"
   ]
  },
  {
   "cell_type": "markdown",
   "id": "06af8b46",
   "metadata": {},
   "source": [
    "Here is a [view](https://www.lucidchart.com/pages/er-diagrams) of all of our tables in the database:"
   ]
  },
  {
   "cell_type": "markdown",
   "id": "08883cce",
   "metadata": {},
   "source": [
    "<div align=\"center\" style=\" font-size: 80%; text-align: center; margin: 0 auto\">\n",
    "<img src=\"https://github.com/Explore-AI/Pictures/blob/master/sqlite-sample-database-color.jpg?raw=true\"  style=\"width:500px\";/>\n",
    "<br>\n",
    "<br>\n",
    "    <em>Figure 1: Chinook ERD</em>\n",
    "</div>\n"
   ]
  },
  {
   "cell_type": "markdown",
   "id": "920e89d2",
   "metadata": {},
   "source": [
    "## Exercise\n",
    "\n",
    "Run the necessary queries that will provide us with the following information. Compare your queries with the solutions at the end of this notebook."
   ]
  },
  {
   "cell_type": "markdown",
   "id": "466e53c1",
   "metadata": {},
   "source": [
    "### Exercise 1\n",
    "\n",
    "Create a `LOOKUP` view of the surname, first name, title, and country of each employee called `Employee_View`.\n"
   ]
  },
  {
   "cell_type": "code",
   "execution_count": 6,
   "id": "038f28ea",
   "metadata": {},
   "outputs": [
    {
     "name": "stdout",
     "output_type": "stream",
     "text": [
      " * sqlite:///chinook.db\n",
      "(sqlite3.OperationalError) view employee_view already exists\n",
      "[SQL: create view employee_view AS \n",
      "select \n",
      "\tlastName,\n",
      "    FirstName,\n",
      "    Title,\n",
      "    country\n",
      "from\n",
      "\temployees]\n",
      "(Background on this error at: http://sqlalche.me/e/14/e3q8)\n"
     ]
    }
   ],
   "source": [
    "%%sql\n",
    "create view employee_view AS \n",
    "select \n",
    "\tlastName,\n",
    "    FirstName,\n",
    "    Title,\n",
    "    country\n",
    "from\n",
    "\temployees"
   ]
  },
  {
   "cell_type": "markdown",
   "id": "86802726",
   "metadata": {},
   "source": [
    "### Exercise 2\n",
    "\n",
    "\n",
    "Query the `Employee_View` view to get a view of the sales team.\n",
    "\n",
    "Use the wildcard operators and the LIKE query to filter all the employees in the specified view."
   ]
  },
  {
   "cell_type": "code",
   "execution_count": null,
   "id": "91f3421f",
   "metadata": {},
   "outputs": [],
   "source": [
    "# Add your code here\n"
   ]
  },
  {
   "cell_type": "markdown",
   "id": "f0fade51",
   "metadata": {},
   "source": [
    "### Exercise 3\n",
    "\n",
    "\n",
    "Create a `JOIN` view that will link up all the customers with the support staff assisting them, called `Customer_Support_View`. We want to view the following:\n",
    "\n",
    "- First name of the customer\n",
    "- Last name (surname) of the customer\n",
    "- Country where the customer resides\n",
    "- SupportRepId\n",
    "- EmployeeId\n",
    "- Last name of the employee\n",
    "- First name of the employee\n",
    "- Job title of the employee\n",
    "- Country where the employee operated from"
   ]
  },
  {
   "cell_type": "code",
   "execution_count": null,
   "id": "748f4263",
   "metadata": {},
   "outputs": [],
   "source": [
    "# Add your code here\n"
   ]
  },
  {
   "cell_type": "markdown",
   "id": "f28aef00",
   "metadata": {},
   "source": [
    "### Exercise 4\n",
    "\n",
    "Query the `Customer_Support_View` view to get a list of the names and surnames of the clients who were helped by an employee with the `Employeeid` '3'.\n"
   ]
  },
  {
   "cell_type": "code",
   "execution_count": null,
   "id": "f4621a53",
   "metadata": {},
   "outputs": [],
   "source": [
    "# Add your code here\n"
   ]
  },
  {
   "cell_type": "markdown",
   "id": "7a51093c",
   "metadata": {},
   "source": [
    "### Exercise 5\n",
    "\n",
    "Create an `AGGREGATING` view that counts the number of customers that are currently being serviced per country, called `Customer_per_Country_View`.\n",
    "\n",
    "We would like to see the country name and the number of customers in this view.\n"
   ]
  },
  {
   "cell_type": "code",
   "execution_count": null,
   "id": "99479d5f",
   "metadata": {},
   "outputs": [],
   "source": [
    "# Add your code here\n"
   ]
  },
  {
   "cell_type": "markdown",
   "id": "d5aefbd6",
   "metadata": {},
   "source": [
    "### Exercise 6\n",
    "Write a query that returns the country with the most customers from `Customer_per_Country_View`.\n"
   ]
  },
  {
   "cell_type": "code",
   "execution_count": null,
   "id": "fc98fe10",
   "metadata": {},
   "outputs": [],
   "source": [
    "# Add your code here\n"
   ]
  },
  {
   "cell_type": "markdown",
   "id": "a18b461d",
   "metadata": {},
   "source": [
    "### Exercise 7\n",
    "\n",
    "Write a query that will delete the `Employee_View` view."
   ]
  },
  {
   "cell_type": "code",
   "execution_count": null,
   "id": "ee7daac8",
   "metadata": {},
   "outputs": [],
   "source": [
    "# Add your code here\n"
   ]
  },
  {
   "cell_type": "markdown",
   "id": "dde873fc",
   "metadata": {},
   "source": [
    "### Challenge question\n",
    "\n",
    "Write a query that returns the number of customers that each support employee services, along with the name of the employee. Call this view `Support_Person_Stats`.\n",
    "\n",
    "To do this, we will need to create a view, join the Customer and Employee tables, and use the `COUNT` and `GROUP BY` functions to aggregate the number of employees serviced by each employee."
   ]
  },
  {
   "cell_type": "code",
   "execution_count": null,
   "id": "57804ebf",
   "metadata": {},
   "outputs": [],
   "source": [
    "# Add your code here\n"
   ]
  },
  {
   "cell_type": "markdown",
   "id": "b3c88335",
   "metadata": {},
   "source": [
    "## Solutions"
   ]
  },
  {
   "cell_type": "markdown",
   "id": "a5084b12",
   "metadata": {},
   "source": [
    "### Exercise 1"
   ]
  },
  {
   "cell_type": "code",
   "execution_count": 5,
   "id": "c968d875",
   "metadata": {
    "scrolled": true
   },
   "outputs": [
    {
     "name": "stdout",
     "output_type": "stream",
     "text": [
      " * sqlite:///chinook.db\n",
      "(sqlite3.OperationalError) view Employee_View already exists\n",
      "[SQL: CREATE VIEW Employee_View AS \n",
      "SELECT LastName, FirstName, Title, Country\n",
      "FROM Employees;]\n",
      "(Background on this error at: http://sqlalche.me/e/14/e3q8)\n"
     ]
    }
   ],
   "source": [
    "%%sql\n",
    "\n",
    "CREATE VIEW Employee_View AS \n",
    "SELECT LastName, FirstName, Title, Country\n",
    "FROM Employees;"
   ]
  },
  {
   "cell_type": "markdown",
   "id": "294d8eef",
   "metadata": {},
   "source": [
    "### Exercise 2"
   ]
  },
  {
   "cell_type": "code",
   "execution_count": 7,
   "id": "03071e34",
   "metadata": {},
   "outputs": [
    {
     "name": "stdout",
     "output_type": "stream",
     "text": [
      " * sqlite:///chinook.db\n",
      "Done.\n"
     ]
    },
    {
     "data": {
      "text/html": [
       "<table>\n",
       "    <thead>\n",
       "        <tr>\n",
       "            <th>LastName</th>\n",
       "            <th>FirstName</th>\n",
       "            <th>Title</th>\n",
       "            <th>Address</th>\n",
       "        </tr>\n",
       "    </thead>\n",
       "    <tbody>\n",
       "        <tr>\n",
       "            <td>Edwards</td>\n",
       "            <td>Nancy</td>\n",
       "            <td>Sales Manager</td>\n",
       "            <td>825 8 Ave SW</td>\n",
       "        </tr>\n",
       "        <tr>\n",
       "            <td>Peacock</td>\n",
       "            <td>Jane</td>\n",
       "            <td>Sales Support Agent</td>\n",
       "            <td>1111 6 Ave SW</td>\n",
       "        </tr>\n",
       "        <tr>\n",
       "            <td>Park</td>\n",
       "            <td>Margaret</td>\n",
       "            <td>Sales Support Agent</td>\n",
       "            <td>683 10 Street SW</td>\n",
       "        </tr>\n",
       "        <tr>\n",
       "            <td>Johnson</td>\n",
       "            <td>Steve</td>\n",
       "            <td>Sales Support Agent</td>\n",
       "            <td>7727B 41 Ave</td>\n",
       "        </tr>\n",
       "    </tbody>\n",
       "</table>"
      ],
      "text/plain": [
       "[('Edwards', 'Nancy', 'Sales Manager', '825 8 Ave SW'),\n",
       " ('Peacock', 'Jane', 'Sales Support Agent', '1111 6 Ave SW'),\n",
       " ('Park', 'Margaret', 'Sales Support Agent', '683 10 Street SW'),\n",
       " ('Johnson', 'Steve', 'Sales Support Agent', '7727B 41 Ave')]"
      ]
     },
     "execution_count": 7,
     "metadata": {},
     "output_type": "execute_result"
    }
   ],
   "source": [
    "%%sql\n",
    "\n",
    "SELECT * FROM Employee_View\n",
    "WHERE Title LIKE '%Sales%'"
   ]
  },
  {
   "cell_type": "markdown",
   "id": "eafe40b6",
   "metadata": {},
   "source": [
    "### Exercise 3"
   ]
  },
  {
   "cell_type": "code",
   "execution_count": 8,
   "id": "1ffd2239",
   "metadata": {},
   "outputs": [
    {
     "name": "stdout",
     "output_type": "stream",
     "text": [
      " * sqlite:///chinook.db\n",
      "Done.\n"
     ]
    },
    {
     "ename": "ResourceClosedError",
     "evalue": "This result object does not return rows. It has been closed automatically.",
     "output_type": "error",
     "traceback": [
      "\u001b[1;31m---------------------------------------------------------------------------\u001b[0m",
      "\u001b[1;31mResourceClosedError\u001b[0m                       Traceback (most recent call last)",
      "Cell \u001b[1;32mIn[8], line 1\u001b[0m\n\u001b[1;32m----> 1\u001b[0m get_ipython()\u001b[38;5;241m.\u001b[39mrun_cell_magic(\u001b[38;5;124m'\u001b[39m\u001b[38;5;124msql\u001b[39m\u001b[38;5;124m'\u001b[39m, \u001b[38;5;124m'\u001b[39m\u001b[38;5;124m'\u001b[39m, \u001b[38;5;124m'\u001b[39m\u001b[38;5;130;01m\\n\u001b[39;00m\u001b[38;5;124mCREATE VIEW Customer_Support_View AS\u001b[39m\u001b[38;5;130;01m\\n\u001b[39;00m\u001b[38;5;124mSELECT c.FirstName Customer_Name, c.LastName Customer_Surname, c.Country Customer_Country, c.SupportRepId, e.EmployeeId, e.LastName Employee_surname, e.FirstName Employee_first_name, e.Title Employee_job_title, e.Country Employee_Country\u001b[39m\u001b[38;5;130;01m\\n\u001b[39;00m\u001b[38;5;124mFROM customers c \u001b[39m\u001b[38;5;130;01m\\n\u001b[39;00m\u001b[38;5;124mINNER JOIN employees e\u001b[39m\u001b[38;5;130;01m\\n\u001b[39;00m\u001b[38;5;124mON c.SupportRepId = e.EmployeeId\u001b[39m\u001b[38;5;130;01m\\n\u001b[39;00m\u001b[38;5;124m'\u001b[39m)\n",
      "File \u001b[1;32mC:\\ProgramData\\anaconda3\\Lib\\site-packages\\IPython\\core\\interactiveshell.py:2493\u001b[0m, in \u001b[0;36mInteractiveShell.run_cell_magic\u001b[1;34m(self, magic_name, line, cell)\u001b[0m\n\u001b[0;32m   2491\u001b[0m \u001b[38;5;28;01mwith\u001b[39;00m \u001b[38;5;28mself\u001b[39m\u001b[38;5;241m.\u001b[39mbuiltin_trap:\n\u001b[0;32m   2492\u001b[0m     args \u001b[38;5;241m=\u001b[39m (magic_arg_s, cell)\n\u001b[1;32m-> 2493\u001b[0m     result \u001b[38;5;241m=\u001b[39m fn(\u001b[38;5;241m*\u001b[39margs, \u001b[38;5;241m*\u001b[39m\u001b[38;5;241m*\u001b[39mkwargs)\n\u001b[0;32m   2495\u001b[0m \u001b[38;5;66;03m# The code below prevents the output from being displayed\u001b[39;00m\n\u001b[0;32m   2496\u001b[0m \u001b[38;5;66;03m# when using magics with decorator @output_can_be_silenced\u001b[39;00m\n\u001b[0;32m   2497\u001b[0m \u001b[38;5;66;03m# when the last Python token in the expression is a ';'.\u001b[39;00m\n\u001b[0;32m   2498\u001b[0m \u001b[38;5;28;01mif\u001b[39;00m \u001b[38;5;28mgetattr\u001b[39m(fn, magic\u001b[38;5;241m.\u001b[39mMAGIC_OUTPUT_CAN_BE_SILENCED, \u001b[38;5;28;01mFalse\u001b[39;00m):\n",
      "File \u001b[1;32mC:\\ProgramData\\anaconda3\\Lib\\site-packages\\sql\\magic.py:95\u001b[0m, in \u001b[0;36mSqlMagic.execute\u001b[1;34m(self, line, cell, local_ns)\u001b[0m\n\u001b[0;32m     92\u001b[0m     \u001b[38;5;28;01mreturn\u001b[39;00m \u001b[38;5;28mself\u001b[39m\u001b[38;5;241m.\u001b[39m_persist_dataframe(parsed[\u001b[38;5;124m'\u001b[39m\u001b[38;5;124msql\u001b[39m\u001b[38;5;124m'\u001b[39m], conn, user_ns)\n\u001b[0;32m     94\u001b[0m \u001b[38;5;28;01mtry\u001b[39;00m:\n\u001b[1;32m---> 95\u001b[0m     result \u001b[38;5;241m=\u001b[39m sql\u001b[38;5;241m.\u001b[39mrun\u001b[38;5;241m.\u001b[39mrun(conn, parsed[\u001b[38;5;124m'\u001b[39m\u001b[38;5;124msql\u001b[39m\u001b[38;5;124m'\u001b[39m], \u001b[38;5;28mself\u001b[39m, user_ns)\n\u001b[0;32m     97\u001b[0m     \u001b[38;5;28;01mif\u001b[39;00m result \u001b[38;5;129;01mis\u001b[39;00m \u001b[38;5;129;01mnot\u001b[39;00m \u001b[38;5;28;01mNone\u001b[39;00m \u001b[38;5;129;01mand\u001b[39;00m \u001b[38;5;129;01mnot\u001b[39;00m \u001b[38;5;28misinstance\u001b[39m(result, \u001b[38;5;28mstr\u001b[39m) \u001b[38;5;129;01mand\u001b[39;00m \u001b[38;5;28mself\u001b[39m\u001b[38;5;241m.\u001b[39mcolumn_local_vars:\n\u001b[0;32m     98\u001b[0m         \u001b[38;5;66;03m#Instead of returning values, set variables directly in the\u001b[39;00m\n\u001b[0;32m     99\u001b[0m         \u001b[38;5;66;03m#users namespace. Variable names given by column names\u001b[39;00m\n\u001b[0;32m    101\u001b[0m         \u001b[38;5;28;01mif\u001b[39;00m \u001b[38;5;28mself\u001b[39m\u001b[38;5;241m.\u001b[39mautopandas:\n",
      "File \u001b[1;32mC:\\ProgramData\\anaconda3\\Lib\\site-packages\\sql\\run.py:344\u001b[0m, in \u001b[0;36mrun\u001b[1;34m(conn, sql, config, user_namespace)\u001b[0m\n\u001b[0;32m    342\u001b[0m     \u001b[38;5;28;01mif\u001b[39;00m result \u001b[38;5;129;01mand\u001b[39;00m config\u001b[38;5;241m.\u001b[39mfeedback:\n\u001b[0;32m    343\u001b[0m         \u001b[38;5;28mprint\u001b[39m(interpret_rowcount(result\u001b[38;5;241m.\u001b[39mrowcount))\n\u001b[1;32m--> 344\u001b[0m resultset \u001b[38;5;241m=\u001b[39m ResultSet(result, statement, config)\n\u001b[0;32m    345\u001b[0m \u001b[38;5;28;01mif\u001b[39;00m config\u001b[38;5;241m.\u001b[39mautopandas:\n\u001b[0;32m    346\u001b[0m     \u001b[38;5;28;01mreturn\u001b[39;00m resultset\u001b[38;5;241m.\u001b[39mDataFrame()\n",
      "File \u001b[1;32mC:\\ProgramData\\anaconda3\\Lib\\site-packages\\sql\\run.py:107\u001b[0m, in \u001b[0;36mResultSet.__init__\u001b[1;34m(self, sqlaproxy, sql, config)\u001b[0m\n\u001b[0;32m    106\u001b[0m \u001b[38;5;28;01mdef\u001b[39;00m \u001b[38;5;21m__init__\u001b[39m(\u001b[38;5;28mself\u001b[39m, sqlaproxy, sql, config):\n\u001b[1;32m--> 107\u001b[0m     \u001b[38;5;28mself\u001b[39m\u001b[38;5;241m.\u001b[39mkeys \u001b[38;5;241m=\u001b[39m sqlaproxy\u001b[38;5;241m.\u001b[39mkeys()\n\u001b[0;32m    108\u001b[0m     \u001b[38;5;28mself\u001b[39m\u001b[38;5;241m.\u001b[39msql \u001b[38;5;241m=\u001b[39m sql\n\u001b[0;32m    109\u001b[0m     \u001b[38;5;28mself\u001b[39m\u001b[38;5;241m.\u001b[39mconfig \u001b[38;5;241m=\u001b[39m config\n",
      "File \u001b[1;32mC:\\ProgramData\\anaconda3\\Lib\\site-packages\\sqlalchemy\\engine\\result.py:700\u001b[0m, in \u001b[0;36m_WithKeys.keys\u001b[1;34m(self)\u001b[0m\n\u001b[0;32m    683\u001b[0m \u001b[38;5;28;01mdef\u001b[39;00m \u001b[38;5;21mkeys\u001b[39m(\u001b[38;5;28mself\u001b[39m):\n\u001b[0;32m    684\u001b[0m \u001b[38;5;250m    \u001b[39m\u001b[38;5;124;03m\"\"\"Return an iterable view which yields the string keys that would\u001b[39;00m\n\u001b[0;32m    685\u001b[0m \u001b[38;5;124;03m    be represented by each :class:`.Row`.\u001b[39;00m\n\u001b[0;32m    686\u001b[0m \n\u001b[1;32m   (...)\u001b[0m\n\u001b[0;32m    698\u001b[0m \n\u001b[0;32m    699\u001b[0m \u001b[38;5;124;03m    \"\"\"\u001b[39;00m\n\u001b[1;32m--> 700\u001b[0m     \u001b[38;5;28;01mreturn\u001b[39;00m \u001b[38;5;28mself\u001b[39m\u001b[38;5;241m.\u001b[39m_metadata\u001b[38;5;241m.\u001b[39mkeys\n",
      "File \u001b[1;32mC:\\ProgramData\\anaconda3\\Lib\\site-packages\\sqlalchemy\\engine\\cursor.py:1201\u001b[0m, in \u001b[0;36m_NoResultMetaData.keys\u001b[1;34m(self)\u001b[0m\n\u001b[0;32m   1199\u001b[0m \u001b[38;5;129m@property\u001b[39m\n\u001b[0;32m   1200\u001b[0m \u001b[38;5;28;01mdef\u001b[39;00m \u001b[38;5;21mkeys\u001b[39m(\u001b[38;5;28mself\u001b[39m):\n\u001b[1;32m-> 1201\u001b[0m     \u001b[38;5;28mself\u001b[39m\u001b[38;5;241m.\u001b[39m_we_dont_return_rows()\n",
      "File \u001b[1;32mC:\\ProgramData\\anaconda3\\Lib\\site-packages\\sqlalchemy\\engine\\cursor.py:1178\u001b[0m, in \u001b[0;36m_NoResultMetaData._we_dont_return_rows\u001b[1;34m(self, err)\u001b[0m\n\u001b[0;32m   1177\u001b[0m \u001b[38;5;28;01mdef\u001b[39;00m \u001b[38;5;21m_we_dont_return_rows\u001b[39m(\u001b[38;5;28mself\u001b[39m, err\u001b[38;5;241m=\u001b[39m\u001b[38;5;28;01mNone\u001b[39;00m):\n\u001b[1;32m-> 1178\u001b[0m     util\u001b[38;5;241m.\u001b[39mraise_(\n\u001b[0;32m   1179\u001b[0m         exc\u001b[38;5;241m.\u001b[39mResourceClosedError(\n\u001b[0;32m   1180\u001b[0m             \u001b[38;5;124m\"\u001b[39m\u001b[38;5;124mThis result object does not return rows. \u001b[39m\u001b[38;5;124m\"\u001b[39m\n\u001b[0;32m   1181\u001b[0m             \u001b[38;5;124m\"\u001b[39m\u001b[38;5;124mIt has been closed automatically.\u001b[39m\u001b[38;5;124m\"\u001b[39m\n\u001b[0;32m   1182\u001b[0m         ),\n\u001b[0;32m   1183\u001b[0m         replace_context\u001b[38;5;241m=\u001b[39merr,\n\u001b[0;32m   1184\u001b[0m     )\n",
      "File \u001b[1;32mC:\\ProgramData\\anaconda3\\Lib\\site-packages\\sqlalchemy\\util\\compat.py:211\u001b[0m, in \u001b[0;36mraise_\u001b[1;34m(***failed resolving arguments***)\u001b[0m\n\u001b[0;32m    208\u001b[0m     exception\u001b[38;5;241m.\u001b[39m__cause__ \u001b[38;5;241m=\u001b[39m replace_context\n\u001b[0;32m    210\u001b[0m \u001b[38;5;28;01mtry\u001b[39;00m:\n\u001b[1;32m--> 211\u001b[0m     \u001b[38;5;28;01mraise\u001b[39;00m exception\n\u001b[0;32m    212\u001b[0m \u001b[38;5;28;01mfinally\u001b[39;00m:\n\u001b[0;32m    213\u001b[0m     \u001b[38;5;66;03m# credit to\u001b[39;00m\n\u001b[0;32m    214\u001b[0m     \u001b[38;5;66;03m# https://cosmicpercolator.com/2016/01/13/exception-leaks-in-python-2-and-3/\u001b[39;00m\n\u001b[0;32m    215\u001b[0m     \u001b[38;5;66;03m# as the __traceback__ object creates a cycle\u001b[39;00m\n\u001b[0;32m    216\u001b[0m     \u001b[38;5;28;01mdel\u001b[39;00m exception, replace_context, from_, with_traceback\n",
      "\u001b[1;31mResourceClosedError\u001b[0m: This result object does not return rows. It has been closed automatically."
     ]
    }
   ],
   "source": [
    "%%sql\n",
    "\n",
    "CREATE VIEW Customer_Support_View AS\n",
    "SELECT c.FirstName Customer_Name, c.LastName Customer_Surname, c.Country Customer_Country, c.SupportRepId, e.EmployeeId, e.LastName Employee_surname, e.FirstName Employee_first_name, e.Title Employee_job_title, e.Country Employee_Country\n",
    "FROM customers c \n",
    "INNER JOIN employees e\n",
    "ON c.SupportRepId = e.EmployeeId"
   ]
  },
  {
   "cell_type": "markdown",
   "id": "e9956efe",
   "metadata": {},
   "source": [
    "### Exercise 4"
   ]
  },
  {
   "cell_type": "code",
   "execution_count": 9,
   "id": "cd662edc",
   "metadata": {},
   "outputs": [
    {
     "name": "stdout",
     "output_type": "stream",
     "text": [
      " * sqlite:///chinook.db\n",
      "Done.\n"
     ]
    },
    {
     "data": {
      "text/html": [
       "<table>\n",
       "    <thead>\n",
       "        <tr>\n",
       "            <th>Customer_Name</th>\n",
       "            <th>Customer_Surname</th>\n",
       "        </tr>\n",
       "    </thead>\n",
       "    <tbody>\n",
       "        <tr>\n",
       "            <td>Luís</td>\n",
       "            <td>Gonçalves</td>\n",
       "        </tr>\n",
       "        <tr>\n",
       "            <td>François</td>\n",
       "            <td>Tremblay</td>\n",
       "        </tr>\n",
       "        <tr>\n",
       "            <td>Roberto</td>\n",
       "            <td>Almeida</td>\n",
       "        </tr>\n",
       "        <tr>\n",
       "            <td>Jennifer</td>\n",
       "            <td>Peterson</td>\n",
       "        </tr>\n",
       "        <tr>\n",
       "            <td>Michelle</td>\n",
       "            <td>Brooks</td>\n",
       "        </tr>\n",
       "        <tr>\n",
       "            <td>Tim</td>\n",
       "            <td>Goyer</td>\n",
       "        </tr>\n",
       "        <tr>\n",
       "            <td>Frank</td>\n",
       "            <td>Ralston</td>\n",
       "        </tr>\n",
       "        <tr>\n",
       "            <td>Robert</td>\n",
       "            <td>Brown</td>\n",
       "        </tr>\n",
       "        <tr>\n",
       "            <td>Edward</td>\n",
       "            <td>Francis</td>\n",
       "        </tr>\n",
       "        <tr>\n",
       "            <td>Ellie</td>\n",
       "            <td>Sullivan</td>\n",
       "        </tr>\n",
       "        <tr>\n",
       "            <td>Fynn</td>\n",
       "            <td>Zimmermann</td>\n",
       "        </tr>\n",
       "        <tr>\n",
       "            <td>Niklas</td>\n",
       "            <td>Schröder</td>\n",
       "        </tr>\n",
       "        <tr>\n",
       "            <td>Wyatt</td>\n",
       "            <td>Girard</td>\n",
       "        </tr>\n",
       "        <tr>\n",
       "            <td>Isabelle</td>\n",
       "            <td>Mercier</td>\n",
       "        </tr>\n",
       "        <tr>\n",
       "            <td>Terhi</td>\n",
       "            <td>Hämäläinen</td>\n",
       "        </tr>\n",
       "        <tr>\n",
       "            <td>Ladislav</td>\n",
       "            <td>Kovács</td>\n",
       "        </tr>\n",
       "        <tr>\n",
       "            <td>Hugh</td>\n",
       "            <td>O&#x27;Reilly</td>\n",
       "        </tr>\n",
       "        <tr>\n",
       "            <td>Emma</td>\n",
       "            <td>Jones</td>\n",
       "        </tr>\n",
       "        <tr>\n",
       "            <td>Phil</td>\n",
       "            <td>Hughes</td>\n",
       "        </tr>\n",
       "        <tr>\n",
       "            <td>Manoj</td>\n",
       "            <td>Pareek</td>\n",
       "        </tr>\n",
       "        <tr>\n",
       "            <td>Puja</td>\n",
       "            <td>Srivastava</td>\n",
       "        </tr>\n",
       "    </tbody>\n",
       "</table>"
      ],
      "text/plain": [
       "[('Luís', 'Gonçalves'),\n",
       " ('François', 'Tremblay'),\n",
       " ('Roberto', 'Almeida'),\n",
       " ('Jennifer', 'Peterson'),\n",
       " ('Michelle', 'Brooks'),\n",
       " ('Tim', 'Goyer'),\n",
       " ('Frank', 'Ralston'),\n",
       " ('Robert', 'Brown'),\n",
       " ('Edward', 'Francis'),\n",
       " ('Ellie', 'Sullivan'),\n",
       " ('Fynn', 'Zimmermann'),\n",
       " ('Niklas', 'Schröder'),\n",
       " ('Wyatt', 'Girard'),\n",
       " ('Isabelle', 'Mercier'),\n",
       " ('Terhi', 'Hämäläinen'),\n",
       " ('Ladislav', 'Kovács'),\n",
       " ('Hugh', \"O'Reilly\"),\n",
       " ('Emma', 'Jones'),\n",
       " ('Phil', 'Hughes'),\n",
       " ('Manoj', 'Pareek'),\n",
       " ('Puja', 'Srivastava')]"
      ]
     },
     "execution_count": 9,
     "metadata": {},
     "output_type": "execute_result"
    }
   ],
   "source": [
    "%%sql\n",
    "\n",
    "SELECT Customer_Name, Customer_Surname \n",
    "FROM Customer_Support_View\n",
    "WHERE Employeeid = 3;"
   ]
  },
  {
   "cell_type": "markdown",
   "id": "c1341a11",
   "metadata": {},
   "source": [
    "### Exercise 5"
   ]
  },
  {
   "cell_type": "code",
   "execution_count": 10,
   "id": "9a0cf068",
   "metadata": {},
   "outputs": [
    {
     "name": "stdout",
     "output_type": "stream",
     "text": [
      " * sqlite:///chinook.db\n",
      "Done.\n"
     ]
    },
    {
     "ename": "ResourceClosedError",
     "evalue": "This result object does not return rows. It has been closed automatically.",
     "output_type": "error",
     "traceback": [
      "\u001b[1;31m---------------------------------------------------------------------------\u001b[0m",
      "\u001b[1;31mResourceClosedError\u001b[0m                       Traceback (most recent call last)",
      "Cell \u001b[1;32mIn[10], line 1\u001b[0m\n\u001b[1;32m----> 1\u001b[0m get_ipython()\u001b[38;5;241m.\u001b[39mrun_cell_magic(\u001b[38;5;124m'\u001b[39m\u001b[38;5;124msql\u001b[39m\u001b[38;5;124m'\u001b[39m, \u001b[38;5;124m'\u001b[39m\u001b[38;5;124m'\u001b[39m, \u001b[38;5;124m'\u001b[39m\u001b[38;5;130;01m\\n\u001b[39;00m\u001b[38;5;124mCREATE VIEW Customer_per_Country_View AS \u001b[39m\u001b[38;5;130;01m\\n\u001b[39;00m\u001b[38;5;124mSELECT COUNT (CustomerId) AS Num_customers, Country\u001b[39m\u001b[38;5;130;01m\\n\u001b[39;00m\u001b[38;5;124mFROM customers\u001b[39m\u001b[38;5;130;01m\\n\u001b[39;00m\u001b[38;5;124mGROUP BY Country;\u001b[39m\u001b[38;5;130;01m\\n\u001b[39;00m\u001b[38;5;124m'\u001b[39m)\n",
      "File \u001b[1;32mC:\\ProgramData\\anaconda3\\Lib\\site-packages\\IPython\\core\\interactiveshell.py:2493\u001b[0m, in \u001b[0;36mInteractiveShell.run_cell_magic\u001b[1;34m(self, magic_name, line, cell)\u001b[0m\n\u001b[0;32m   2491\u001b[0m \u001b[38;5;28;01mwith\u001b[39;00m \u001b[38;5;28mself\u001b[39m\u001b[38;5;241m.\u001b[39mbuiltin_trap:\n\u001b[0;32m   2492\u001b[0m     args \u001b[38;5;241m=\u001b[39m (magic_arg_s, cell)\n\u001b[1;32m-> 2493\u001b[0m     result \u001b[38;5;241m=\u001b[39m fn(\u001b[38;5;241m*\u001b[39margs, \u001b[38;5;241m*\u001b[39m\u001b[38;5;241m*\u001b[39mkwargs)\n\u001b[0;32m   2495\u001b[0m \u001b[38;5;66;03m# The code below prevents the output from being displayed\u001b[39;00m\n\u001b[0;32m   2496\u001b[0m \u001b[38;5;66;03m# when using magics with decorator @output_can_be_silenced\u001b[39;00m\n\u001b[0;32m   2497\u001b[0m \u001b[38;5;66;03m# when the last Python token in the expression is a ';'.\u001b[39;00m\n\u001b[0;32m   2498\u001b[0m \u001b[38;5;28;01mif\u001b[39;00m \u001b[38;5;28mgetattr\u001b[39m(fn, magic\u001b[38;5;241m.\u001b[39mMAGIC_OUTPUT_CAN_BE_SILENCED, \u001b[38;5;28;01mFalse\u001b[39;00m):\n",
      "File \u001b[1;32mC:\\ProgramData\\anaconda3\\Lib\\site-packages\\sql\\magic.py:95\u001b[0m, in \u001b[0;36mSqlMagic.execute\u001b[1;34m(self, line, cell, local_ns)\u001b[0m\n\u001b[0;32m     92\u001b[0m     \u001b[38;5;28;01mreturn\u001b[39;00m \u001b[38;5;28mself\u001b[39m\u001b[38;5;241m.\u001b[39m_persist_dataframe(parsed[\u001b[38;5;124m'\u001b[39m\u001b[38;5;124msql\u001b[39m\u001b[38;5;124m'\u001b[39m], conn, user_ns)\n\u001b[0;32m     94\u001b[0m \u001b[38;5;28;01mtry\u001b[39;00m:\n\u001b[1;32m---> 95\u001b[0m     result \u001b[38;5;241m=\u001b[39m sql\u001b[38;5;241m.\u001b[39mrun\u001b[38;5;241m.\u001b[39mrun(conn, parsed[\u001b[38;5;124m'\u001b[39m\u001b[38;5;124msql\u001b[39m\u001b[38;5;124m'\u001b[39m], \u001b[38;5;28mself\u001b[39m, user_ns)\n\u001b[0;32m     97\u001b[0m     \u001b[38;5;28;01mif\u001b[39;00m result \u001b[38;5;129;01mis\u001b[39;00m \u001b[38;5;129;01mnot\u001b[39;00m \u001b[38;5;28;01mNone\u001b[39;00m \u001b[38;5;129;01mand\u001b[39;00m \u001b[38;5;129;01mnot\u001b[39;00m \u001b[38;5;28misinstance\u001b[39m(result, \u001b[38;5;28mstr\u001b[39m) \u001b[38;5;129;01mand\u001b[39;00m \u001b[38;5;28mself\u001b[39m\u001b[38;5;241m.\u001b[39mcolumn_local_vars:\n\u001b[0;32m     98\u001b[0m         \u001b[38;5;66;03m#Instead of returning values, set variables directly in the\u001b[39;00m\n\u001b[0;32m     99\u001b[0m         \u001b[38;5;66;03m#users namespace. Variable names given by column names\u001b[39;00m\n\u001b[0;32m    101\u001b[0m         \u001b[38;5;28;01mif\u001b[39;00m \u001b[38;5;28mself\u001b[39m\u001b[38;5;241m.\u001b[39mautopandas:\n",
      "File \u001b[1;32mC:\\ProgramData\\anaconda3\\Lib\\site-packages\\sql\\run.py:344\u001b[0m, in \u001b[0;36mrun\u001b[1;34m(conn, sql, config, user_namespace)\u001b[0m\n\u001b[0;32m    342\u001b[0m     \u001b[38;5;28;01mif\u001b[39;00m result \u001b[38;5;129;01mand\u001b[39;00m config\u001b[38;5;241m.\u001b[39mfeedback:\n\u001b[0;32m    343\u001b[0m         \u001b[38;5;28mprint\u001b[39m(interpret_rowcount(result\u001b[38;5;241m.\u001b[39mrowcount))\n\u001b[1;32m--> 344\u001b[0m resultset \u001b[38;5;241m=\u001b[39m ResultSet(result, statement, config)\n\u001b[0;32m    345\u001b[0m \u001b[38;5;28;01mif\u001b[39;00m config\u001b[38;5;241m.\u001b[39mautopandas:\n\u001b[0;32m    346\u001b[0m     \u001b[38;5;28;01mreturn\u001b[39;00m resultset\u001b[38;5;241m.\u001b[39mDataFrame()\n",
      "File \u001b[1;32mC:\\ProgramData\\anaconda3\\Lib\\site-packages\\sql\\run.py:107\u001b[0m, in \u001b[0;36mResultSet.__init__\u001b[1;34m(self, sqlaproxy, sql, config)\u001b[0m\n\u001b[0;32m    106\u001b[0m \u001b[38;5;28;01mdef\u001b[39;00m \u001b[38;5;21m__init__\u001b[39m(\u001b[38;5;28mself\u001b[39m, sqlaproxy, sql, config):\n\u001b[1;32m--> 107\u001b[0m     \u001b[38;5;28mself\u001b[39m\u001b[38;5;241m.\u001b[39mkeys \u001b[38;5;241m=\u001b[39m sqlaproxy\u001b[38;5;241m.\u001b[39mkeys()\n\u001b[0;32m    108\u001b[0m     \u001b[38;5;28mself\u001b[39m\u001b[38;5;241m.\u001b[39msql \u001b[38;5;241m=\u001b[39m sql\n\u001b[0;32m    109\u001b[0m     \u001b[38;5;28mself\u001b[39m\u001b[38;5;241m.\u001b[39mconfig \u001b[38;5;241m=\u001b[39m config\n",
      "File \u001b[1;32mC:\\ProgramData\\anaconda3\\Lib\\site-packages\\sqlalchemy\\engine\\result.py:700\u001b[0m, in \u001b[0;36m_WithKeys.keys\u001b[1;34m(self)\u001b[0m\n\u001b[0;32m    683\u001b[0m \u001b[38;5;28;01mdef\u001b[39;00m \u001b[38;5;21mkeys\u001b[39m(\u001b[38;5;28mself\u001b[39m):\n\u001b[0;32m    684\u001b[0m \u001b[38;5;250m    \u001b[39m\u001b[38;5;124;03m\"\"\"Return an iterable view which yields the string keys that would\u001b[39;00m\n\u001b[0;32m    685\u001b[0m \u001b[38;5;124;03m    be represented by each :class:`.Row`.\u001b[39;00m\n\u001b[0;32m    686\u001b[0m \n\u001b[1;32m   (...)\u001b[0m\n\u001b[0;32m    698\u001b[0m \n\u001b[0;32m    699\u001b[0m \u001b[38;5;124;03m    \"\"\"\u001b[39;00m\n\u001b[1;32m--> 700\u001b[0m     \u001b[38;5;28;01mreturn\u001b[39;00m \u001b[38;5;28mself\u001b[39m\u001b[38;5;241m.\u001b[39m_metadata\u001b[38;5;241m.\u001b[39mkeys\n",
      "File \u001b[1;32mC:\\ProgramData\\anaconda3\\Lib\\site-packages\\sqlalchemy\\engine\\cursor.py:1201\u001b[0m, in \u001b[0;36m_NoResultMetaData.keys\u001b[1;34m(self)\u001b[0m\n\u001b[0;32m   1199\u001b[0m \u001b[38;5;129m@property\u001b[39m\n\u001b[0;32m   1200\u001b[0m \u001b[38;5;28;01mdef\u001b[39;00m \u001b[38;5;21mkeys\u001b[39m(\u001b[38;5;28mself\u001b[39m):\n\u001b[1;32m-> 1201\u001b[0m     \u001b[38;5;28mself\u001b[39m\u001b[38;5;241m.\u001b[39m_we_dont_return_rows()\n",
      "File \u001b[1;32mC:\\ProgramData\\anaconda3\\Lib\\site-packages\\sqlalchemy\\engine\\cursor.py:1178\u001b[0m, in \u001b[0;36m_NoResultMetaData._we_dont_return_rows\u001b[1;34m(self, err)\u001b[0m\n\u001b[0;32m   1177\u001b[0m \u001b[38;5;28;01mdef\u001b[39;00m \u001b[38;5;21m_we_dont_return_rows\u001b[39m(\u001b[38;5;28mself\u001b[39m, err\u001b[38;5;241m=\u001b[39m\u001b[38;5;28;01mNone\u001b[39;00m):\n\u001b[1;32m-> 1178\u001b[0m     util\u001b[38;5;241m.\u001b[39mraise_(\n\u001b[0;32m   1179\u001b[0m         exc\u001b[38;5;241m.\u001b[39mResourceClosedError(\n\u001b[0;32m   1180\u001b[0m             \u001b[38;5;124m\"\u001b[39m\u001b[38;5;124mThis result object does not return rows. \u001b[39m\u001b[38;5;124m\"\u001b[39m\n\u001b[0;32m   1181\u001b[0m             \u001b[38;5;124m\"\u001b[39m\u001b[38;5;124mIt has been closed automatically.\u001b[39m\u001b[38;5;124m\"\u001b[39m\n\u001b[0;32m   1182\u001b[0m         ),\n\u001b[0;32m   1183\u001b[0m         replace_context\u001b[38;5;241m=\u001b[39merr,\n\u001b[0;32m   1184\u001b[0m     )\n",
      "File \u001b[1;32mC:\\ProgramData\\anaconda3\\Lib\\site-packages\\sqlalchemy\\util\\compat.py:211\u001b[0m, in \u001b[0;36mraise_\u001b[1;34m(***failed resolving arguments***)\u001b[0m\n\u001b[0;32m    208\u001b[0m     exception\u001b[38;5;241m.\u001b[39m__cause__ \u001b[38;5;241m=\u001b[39m replace_context\n\u001b[0;32m    210\u001b[0m \u001b[38;5;28;01mtry\u001b[39;00m:\n\u001b[1;32m--> 211\u001b[0m     \u001b[38;5;28;01mraise\u001b[39;00m exception\n\u001b[0;32m    212\u001b[0m \u001b[38;5;28;01mfinally\u001b[39;00m:\n\u001b[0;32m    213\u001b[0m     \u001b[38;5;66;03m# credit to\u001b[39;00m\n\u001b[0;32m    214\u001b[0m     \u001b[38;5;66;03m# https://cosmicpercolator.com/2016/01/13/exception-leaks-in-python-2-and-3/\u001b[39;00m\n\u001b[0;32m    215\u001b[0m     \u001b[38;5;66;03m# as the __traceback__ object creates a cycle\u001b[39;00m\n\u001b[0;32m    216\u001b[0m     \u001b[38;5;28;01mdel\u001b[39;00m exception, replace_context, from_, with_traceback\n",
      "\u001b[1;31mResourceClosedError\u001b[0m: This result object does not return rows. It has been closed automatically."
     ]
    }
   ],
   "source": [
    "%%sql\n",
    "\n",
    "CREATE VIEW Customer_per_Country_View AS \n",
    "SELECT COUNT (CustomerId) AS Num_customers, Country\n",
    "FROM customers\n",
    "GROUP BY Country;"
   ]
  },
  {
   "cell_type": "markdown",
   "id": "9372f6b4",
   "metadata": {},
   "source": [
    "### Exercise 6"
   ]
  },
  {
   "cell_type": "code",
   "execution_count": 11,
   "id": "d5ac7556",
   "metadata": {},
   "outputs": [
    {
     "name": "stdout",
     "output_type": "stream",
     "text": [
      " * sqlite:///chinook.db\n",
      "Done.\n"
     ]
    },
    {
     "data": {
      "text/html": [
       "<table>\n",
       "    <thead>\n",
       "        <tr>\n",
       "            <th>Country</th>\n",
       "            <th>MAX(Num_customers)</th>\n",
       "        </tr>\n",
       "    </thead>\n",
       "    <tbody>\n",
       "        <tr>\n",
       "            <td>USA</td>\n",
       "            <td>13</td>\n",
       "        </tr>\n",
       "    </tbody>\n",
       "</table>"
      ],
      "text/plain": [
       "[('USA', 13)]"
      ]
     },
     "execution_count": 11,
     "metadata": {},
     "output_type": "execute_result"
    }
   ],
   "source": [
    "%%sql\n",
    "\n",
    "SELECT Country, MAX(Num_customers) \n",
    "FROM Customer_per_Country_View"
   ]
  },
  {
   "cell_type": "markdown",
   "id": "10b888fd",
   "metadata": {},
   "source": [
    "### Exercise 7"
   ]
  },
  {
   "cell_type": "code",
   "execution_count": 12,
   "id": "6d8ab7fa",
   "metadata": {},
   "outputs": [
    {
     "name": "stdout",
     "output_type": "stream",
     "text": [
      " * sqlite:///chinook.db\n",
      "Done.\n"
     ]
    },
    {
     "ename": "ResourceClosedError",
     "evalue": "This result object does not return rows. It has been closed automatically.",
     "output_type": "error",
     "traceback": [
      "\u001b[1;31m---------------------------------------------------------------------------\u001b[0m",
      "\u001b[1;31mResourceClosedError\u001b[0m                       Traceback (most recent call last)",
      "Cell \u001b[1;32mIn[12], line 1\u001b[0m\n\u001b[1;32m----> 1\u001b[0m get_ipython()\u001b[38;5;241m.\u001b[39mrun_cell_magic(\u001b[38;5;124m'\u001b[39m\u001b[38;5;124msql\u001b[39m\u001b[38;5;124m'\u001b[39m, \u001b[38;5;124m'\u001b[39m\u001b[38;5;124m'\u001b[39m, \u001b[38;5;124m'\u001b[39m\u001b[38;5;130;01m\\n\u001b[39;00m\u001b[38;5;124mDROP VIEW Employee_View\u001b[39m\u001b[38;5;130;01m\\n\u001b[39;00m\u001b[38;5;124m'\u001b[39m)\n",
      "File \u001b[1;32mC:\\ProgramData\\anaconda3\\Lib\\site-packages\\IPython\\core\\interactiveshell.py:2493\u001b[0m, in \u001b[0;36mInteractiveShell.run_cell_magic\u001b[1;34m(self, magic_name, line, cell)\u001b[0m\n\u001b[0;32m   2491\u001b[0m \u001b[38;5;28;01mwith\u001b[39;00m \u001b[38;5;28mself\u001b[39m\u001b[38;5;241m.\u001b[39mbuiltin_trap:\n\u001b[0;32m   2492\u001b[0m     args \u001b[38;5;241m=\u001b[39m (magic_arg_s, cell)\n\u001b[1;32m-> 2493\u001b[0m     result \u001b[38;5;241m=\u001b[39m fn(\u001b[38;5;241m*\u001b[39margs, \u001b[38;5;241m*\u001b[39m\u001b[38;5;241m*\u001b[39mkwargs)\n\u001b[0;32m   2495\u001b[0m \u001b[38;5;66;03m# The code below prevents the output from being displayed\u001b[39;00m\n\u001b[0;32m   2496\u001b[0m \u001b[38;5;66;03m# when using magics with decorator @output_can_be_silenced\u001b[39;00m\n\u001b[0;32m   2497\u001b[0m \u001b[38;5;66;03m# when the last Python token in the expression is a ';'.\u001b[39;00m\n\u001b[0;32m   2498\u001b[0m \u001b[38;5;28;01mif\u001b[39;00m \u001b[38;5;28mgetattr\u001b[39m(fn, magic\u001b[38;5;241m.\u001b[39mMAGIC_OUTPUT_CAN_BE_SILENCED, \u001b[38;5;28;01mFalse\u001b[39;00m):\n",
      "File \u001b[1;32mC:\\ProgramData\\anaconda3\\Lib\\site-packages\\sql\\magic.py:95\u001b[0m, in \u001b[0;36mSqlMagic.execute\u001b[1;34m(self, line, cell, local_ns)\u001b[0m\n\u001b[0;32m     92\u001b[0m     \u001b[38;5;28;01mreturn\u001b[39;00m \u001b[38;5;28mself\u001b[39m\u001b[38;5;241m.\u001b[39m_persist_dataframe(parsed[\u001b[38;5;124m'\u001b[39m\u001b[38;5;124msql\u001b[39m\u001b[38;5;124m'\u001b[39m], conn, user_ns)\n\u001b[0;32m     94\u001b[0m \u001b[38;5;28;01mtry\u001b[39;00m:\n\u001b[1;32m---> 95\u001b[0m     result \u001b[38;5;241m=\u001b[39m sql\u001b[38;5;241m.\u001b[39mrun\u001b[38;5;241m.\u001b[39mrun(conn, parsed[\u001b[38;5;124m'\u001b[39m\u001b[38;5;124msql\u001b[39m\u001b[38;5;124m'\u001b[39m], \u001b[38;5;28mself\u001b[39m, user_ns)\n\u001b[0;32m     97\u001b[0m     \u001b[38;5;28;01mif\u001b[39;00m result \u001b[38;5;129;01mis\u001b[39;00m \u001b[38;5;129;01mnot\u001b[39;00m \u001b[38;5;28;01mNone\u001b[39;00m \u001b[38;5;129;01mand\u001b[39;00m \u001b[38;5;129;01mnot\u001b[39;00m \u001b[38;5;28misinstance\u001b[39m(result, \u001b[38;5;28mstr\u001b[39m) \u001b[38;5;129;01mand\u001b[39;00m \u001b[38;5;28mself\u001b[39m\u001b[38;5;241m.\u001b[39mcolumn_local_vars:\n\u001b[0;32m     98\u001b[0m         \u001b[38;5;66;03m#Instead of returning values, set variables directly in the\u001b[39;00m\n\u001b[0;32m     99\u001b[0m         \u001b[38;5;66;03m#users namespace. Variable names given by column names\u001b[39;00m\n\u001b[0;32m    101\u001b[0m         \u001b[38;5;28;01mif\u001b[39;00m \u001b[38;5;28mself\u001b[39m\u001b[38;5;241m.\u001b[39mautopandas:\n",
      "File \u001b[1;32mC:\\ProgramData\\anaconda3\\Lib\\site-packages\\sql\\run.py:344\u001b[0m, in \u001b[0;36mrun\u001b[1;34m(conn, sql, config, user_namespace)\u001b[0m\n\u001b[0;32m    342\u001b[0m     \u001b[38;5;28;01mif\u001b[39;00m result \u001b[38;5;129;01mand\u001b[39;00m config\u001b[38;5;241m.\u001b[39mfeedback:\n\u001b[0;32m    343\u001b[0m         \u001b[38;5;28mprint\u001b[39m(interpret_rowcount(result\u001b[38;5;241m.\u001b[39mrowcount))\n\u001b[1;32m--> 344\u001b[0m resultset \u001b[38;5;241m=\u001b[39m ResultSet(result, statement, config)\n\u001b[0;32m    345\u001b[0m \u001b[38;5;28;01mif\u001b[39;00m config\u001b[38;5;241m.\u001b[39mautopandas:\n\u001b[0;32m    346\u001b[0m     \u001b[38;5;28;01mreturn\u001b[39;00m resultset\u001b[38;5;241m.\u001b[39mDataFrame()\n",
      "File \u001b[1;32mC:\\ProgramData\\anaconda3\\Lib\\site-packages\\sql\\run.py:107\u001b[0m, in \u001b[0;36mResultSet.__init__\u001b[1;34m(self, sqlaproxy, sql, config)\u001b[0m\n\u001b[0;32m    106\u001b[0m \u001b[38;5;28;01mdef\u001b[39;00m \u001b[38;5;21m__init__\u001b[39m(\u001b[38;5;28mself\u001b[39m, sqlaproxy, sql, config):\n\u001b[1;32m--> 107\u001b[0m     \u001b[38;5;28mself\u001b[39m\u001b[38;5;241m.\u001b[39mkeys \u001b[38;5;241m=\u001b[39m sqlaproxy\u001b[38;5;241m.\u001b[39mkeys()\n\u001b[0;32m    108\u001b[0m     \u001b[38;5;28mself\u001b[39m\u001b[38;5;241m.\u001b[39msql \u001b[38;5;241m=\u001b[39m sql\n\u001b[0;32m    109\u001b[0m     \u001b[38;5;28mself\u001b[39m\u001b[38;5;241m.\u001b[39mconfig \u001b[38;5;241m=\u001b[39m config\n",
      "File \u001b[1;32mC:\\ProgramData\\anaconda3\\Lib\\site-packages\\sqlalchemy\\engine\\result.py:700\u001b[0m, in \u001b[0;36m_WithKeys.keys\u001b[1;34m(self)\u001b[0m\n\u001b[0;32m    683\u001b[0m \u001b[38;5;28;01mdef\u001b[39;00m \u001b[38;5;21mkeys\u001b[39m(\u001b[38;5;28mself\u001b[39m):\n\u001b[0;32m    684\u001b[0m \u001b[38;5;250m    \u001b[39m\u001b[38;5;124;03m\"\"\"Return an iterable view which yields the string keys that would\u001b[39;00m\n\u001b[0;32m    685\u001b[0m \u001b[38;5;124;03m    be represented by each :class:`.Row`.\u001b[39;00m\n\u001b[0;32m    686\u001b[0m \n\u001b[1;32m   (...)\u001b[0m\n\u001b[0;32m    698\u001b[0m \n\u001b[0;32m    699\u001b[0m \u001b[38;5;124;03m    \"\"\"\u001b[39;00m\n\u001b[1;32m--> 700\u001b[0m     \u001b[38;5;28;01mreturn\u001b[39;00m \u001b[38;5;28mself\u001b[39m\u001b[38;5;241m.\u001b[39m_metadata\u001b[38;5;241m.\u001b[39mkeys\n",
      "File \u001b[1;32mC:\\ProgramData\\anaconda3\\Lib\\site-packages\\sqlalchemy\\engine\\cursor.py:1201\u001b[0m, in \u001b[0;36m_NoResultMetaData.keys\u001b[1;34m(self)\u001b[0m\n\u001b[0;32m   1199\u001b[0m \u001b[38;5;129m@property\u001b[39m\n\u001b[0;32m   1200\u001b[0m \u001b[38;5;28;01mdef\u001b[39;00m \u001b[38;5;21mkeys\u001b[39m(\u001b[38;5;28mself\u001b[39m):\n\u001b[1;32m-> 1201\u001b[0m     \u001b[38;5;28mself\u001b[39m\u001b[38;5;241m.\u001b[39m_we_dont_return_rows()\n",
      "File \u001b[1;32mC:\\ProgramData\\anaconda3\\Lib\\site-packages\\sqlalchemy\\engine\\cursor.py:1178\u001b[0m, in \u001b[0;36m_NoResultMetaData._we_dont_return_rows\u001b[1;34m(self, err)\u001b[0m\n\u001b[0;32m   1177\u001b[0m \u001b[38;5;28;01mdef\u001b[39;00m \u001b[38;5;21m_we_dont_return_rows\u001b[39m(\u001b[38;5;28mself\u001b[39m, err\u001b[38;5;241m=\u001b[39m\u001b[38;5;28;01mNone\u001b[39;00m):\n\u001b[1;32m-> 1178\u001b[0m     util\u001b[38;5;241m.\u001b[39mraise_(\n\u001b[0;32m   1179\u001b[0m         exc\u001b[38;5;241m.\u001b[39mResourceClosedError(\n\u001b[0;32m   1180\u001b[0m             \u001b[38;5;124m\"\u001b[39m\u001b[38;5;124mThis result object does not return rows. \u001b[39m\u001b[38;5;124m\"\u001b[39m\n\u001b[0;32m   1181\u001b[0m             \u001b[38;5;124m\"\u001b[39m\u001b[38;5;124mIt has been closed automatically.\u001b[39m\u001b[38;5;124m\"\u001b[39m\n\u001b[0;32m   1182\u001b[0m         ),\n\u001b[0;32m   1183\u001b[0m         replace_context\u001b[38;5;241m=\u001b[39merr,\n\u001b[0;32m   1184\u001b[0m     )\n",
      "File \u001b[1;32mC:\\ProgramData\\anaconda3\\Lib\\site-packages\\sqlalchemy\\util\\compat.py:211\u001b[0m, in \u001b[0;36mraise_\u001b[1;34m(***failed resolving arguments***)\u001b[0m\n\u001b[0;32m    208\u001b[0m     exception\u001b[38;5;241m.\u001b[39m__cause__ \u001b[38;5;241m=\u001b[39m replace_context\n\u001b[0;32m    210\u001b[0m \u001b[38;5;28;01mtry\u001b[39;00m:\n\u001b[1;32m--> 211\u001b[0m     \u001b[38;5;28;01mraise\u001b[39;00m exception\n\u001b[0;32m    212\u001b[0m \u001b[38;5;28;01mfinally\u001b[39;00m:\n\u001b[0;32m    213\u001b[0m     \u001b[38;5;66;03m# credit to\u001b[39;00m\n\u001b[0;32m    214\u001b[0m     \u001b[38;5;66;03m# https://cosmicpercolator.com/2016/01/13/exception-leaks-in-python-2-and-3/\u001b[39;00m\n\u001b[0;32m    215\u001b[0m     \u001b[38;5;66;03m# as the __traceback__ object creates a cycle\u001b[39;00m\n\u001b[0;32m    216\u001b[0m     \u001b[38;5;28;01mdel\u001b[39;00m exception, replace_context, from_, with_traceback\n",
      "\u001b[1;31mResourceClosedError\u001b[0m: This result object does not return rows. It has been closed automatically."
     ]
    }
   ],
   "source": [
    "%%sql\n",
    "\n",
    "DROP VIEW Employee_View"
   ]
  },
  {
   "cell_type": "markdown",
   "id": "a9364c60",
   "metadata": {},
   "source": [
    "### Challenge question"
   ]
  },
  {
   "cell_type": "code",
   "execution_count": 13,
   "id": "74f04ced",
   "metadata": {},
   "outputs": [
    {
     "name": "stdout",
     "output_type": "stream",
     "text": [
      " * sqlite:///chinook.db\n",
      "Done.\n"
     ]
    },
    {
     "ename": "ResourceClosedError",
     "evalue": "This result object does not return rows. It has been closed automatically.",
     "output_type": "error",
     "traceback": [
      "\u001b[1;31m---------------------------------------------------------------------------\u001b[0m",
      "\u001b[1;31mResourceClosedError\u001b[0m                       Traceback (most recent call last)",
      "Cell \u001b[1;32mIn[13], line 1\u001b[0m\n\u001b[1;32m----> 1\u001b[0m get_ipython()\u001b[38;5;241m.\u001b[39mrun_cell_magic(\u001b[38;5;124m'\u001b[39m\u001b[38;5;124msql\u001b[39m\u001b[38;5;124m'\u001b[39m, \u001b[38;5;124m'\u001b[39m\u001b[38;5;124m'\u001b[39m, \u001b[38;5;124m'\u001b[39m\u001b[38;5;130;01m\\n\u001b[39;00m\u001b[38;5;124mCREATE VIEW Support_Person_Stats AS\u001b[39m\u001b[38;5;130;01m\\n\u001b[39;00m\u001b[38;5;124mSELECT COUNT(c.SupportRepId) Count_of_Customers_Serviced , e.EmployeeId, e.LastName\u001b[39m\u001b[38;5;130;01m\\n\u001b[39;00m\u001b[38;5;124mFROM customers c \u001b[39m\u001b[38;5;130;01m\\n\u001b[39;00m\u001b[38;5;124mINNER JOIN employees e\u001b[39m\u001b[38;5;130;01m\\n\u001b[39;00m\u001b[38;5;124mON c.SupportRepId = e.EmployeeId\u001b[39m\u001b[38;5;130;01m\\n\u001b[39;00m\u001b[38;5;124mGROUP BY e.EmployeeId;\u001b[39m\u001b[38;5;130;01m\\n\u001b[39;00m\u001b[38;5;124m'\u001b[39m)\n",
      "File \u001b[1;32mC:\\ProgramData\\anaconda3\\Lib\\site-packages\\IPython\\core\\interactiveshell.py:2493\u001b[0m, in \u001b[0;36mInteractiveShell.run_cell_magic\u001b[1;34m(self, magic_name, line, cell)\u001b[0m\n\u001b[0;32m   2491\u001b[0m \u001b[38;5;28;01mwith\u001b[39;00m \u001b[38;5;28mself\u001b[39m\u001b[38;5;241m.\u001b[39mbuiltin_trap:\n\u001b[0;32m   2492\u001b[0m     args \u001b[38;5;241m=\u001b[39m (magic_arg_s, cell)\n\u001b[1;32m-> 2493\u001b[0m     result \u001b[38;5;241m=\u001b[39m fn(\u001b[38;5;241m*\u001b[39margs, \u001b[38;5;241m*\u001b[39m\u001b[38;5;241m*\u001b[39mkwargs)\n\u001b[0;32m   2495\u001b[0m \u001b[38;5;66;03m# The code below prevents the output from being displayed\u001b[39;00m\n\u001b[0;32m   2496\u001b[0m \u001b[38;5;66;03m# when using magics with decorator @output_can_be_silenced\u001b[39;00m\n\u001b[0;32m   2497\u001b[0m \u001b[38;5;66;03m# when the last Python token in the expression is a ';'.\u001b[39;00m\n\u001b[0;32m   2498\u001b[0m \u001b[38;5;28;01mif\u001b[39;00m \u001b[38;5;28mgetattr\u001b[39m(fn, magic\u001b[38;5;241m.\u001b[39mMAGIC_OUTPUT_CAN_BE_SILENCED, \u001b[38;5;28;01mFalse\u001b[39;00m):\n",
      "File \u001b[1;32mC:\\ProgramData\\anaconda3\\Lib\\site-packages\\sql\\magic.py:95\u001b[0m, in \u001b[0;36mSqlMagic.execute\u001b[1;34m(self, line, cell, local_ns)\u001b[0m\n\u001b[0;32m     92\u001b[0m     \u001b[38;5;28;01mreturn\u001b[39;00m \u001b[38;5;28mself\u001b[39m\u001b[38;5;241m.\u001b[39m_persist_dataframe(parsed[\u001b[38;5;124m'\u001b[39m\u001b[38;5;124msql\u001b[39m\u001b[38;5;124m'\u001b[39m], conn, user_ns)\n\u001b[0;32m     94\u001b[0m \u001b[38;5;28;01mtry\u001b[39;00m:\n\u001b[1;32m---> 95\u001b[0m     result \u001b[38;5;241m=\u001b[39m sql\u001b[38;5;241m.\u001b[39mrun\u001b[38;5;241m.\u001b[39mrun(conn, parsed[\u001b[38;5;124m'\u001b[39m\u001b[38;5;124msql\u001b[39m\u001b[38;5;124m'\u001b[39m], \u001b[38;5;28mself\u001b[39m, user_ns)\n\u001b[0;32m     97\u001b[0m     \u001b[38;5;28;01mif\u001b[39;00m result \u001b[38;5;129;01mis\u001b[39;00m \u001b[38;5;129;01mnot\u001b[39;00m \u001b[38;5;28;01mNone\u001b[39;00m \u001b[38;5;129;01mand\u001b[39;00m \u001b[38;5;129;01mnot\u001b[39;00m \u001b[38;5;28misinstance\u001b[39m(result, \u001b[38;5;28mstr\u001b[39m) \u001b[38;5;129;01mand\u001b[39;00m \u001b[38;5;28mself\u001b[39m\u001b[38;5;241m.\u001b[39mcolumn_local_vars:\n\u001b[0;32m     98\u001b[0m         \u001b[38;5;66;03m#Instead of returning values, set variables directly in the\u001b[39;00m\n\u001b[0;32m     99\u001b[0m         \u001b[38;5;66;03m#users namespace. Variable names given by column names\u001b[39;00m\n\u001b[0;32m    101\u001b[0m         \u001b[38;5;28;01mif\u001b[39;00m \u001b[38;5;28mself\u001b[39m\u001b[38;5;241m.\u001b[39mautopandas:\n",
      "File \u001b[1;32mC:\\ProgramData\\anaconda3\\Lib\\site-packages\\sql\\run.py:344\u001b[0m, in \u001b[0;36mrun\u001b[1;34m(conn, sql, config, user_namespace)\u001b[0m\n\u001b[0;32m    342\u001b[0m     \u001b[38;5;28;01mif\u001b[39;00m result \u001b[38;5;129;01mand\u001b[39;00m config\u001b[38;5;241m.\u001b[39mfeedback:\n\u001b[0;32m    343\u001b[0m         \u001b[38;5;28mprint\u001b[39m(interpret_rowcount(result\u001b[38;5;241m.\u001b[39mrowcount))\n\u001b[1;32m--> 344\u001b[0m resultset \u001b[38;5;241m=\u001b[39m ResultSet(result, statement, config)\n\u001b[0;32m    345\u001b[0m \u001b[38;5;28;01mif\u001b[39;00m config\u001b[38;5;241m.\u001b[39mautopandas:\n\u001b[0;32m    346\u001b[0m     \u001b[38;5;28;01mreturn\u001b[39;00m resultset\u001b[38;5;241m.\u001b[39mDataFrame()\n",
      "File \u001b[1;32mC:\\ProgramData\\anaconda3\\Lib\\site-packages\\sql\\run.py:107\u001b[0m, in \u001b[0;36mResultSet.__init__\u001b[1;34m(self, sqlaproxy, sql, config)\u001b[0m\n\u001b[0;32m    106\u001b[0m \u001b[38;5;28;01mdef\u001b[39;00m \u001b[38;5;21m__init__\u001b[39m(\u001b[38;5;28mself\u001b[39m, sqlaproxy, sql, config):\n\u001b[1;32m--> 107\u001b[0m     \u001b[38;5;28mself\u001b[39m\u001b[38;5;241m.\u001b[39mkeys \u001b[38;5;241m=\u001b[39m sqlaproxy\u001b[38;5;241m.\u001b[39mkeys()\n\u001b[0;32m    108\u001b[0m     \u001b[38;5;28mself\u001b[39m\u001b[38;5;241m.\u001b[39msql \u001b[38;5;241m=\u001b[39m sql\n\u001b[0;32m    109\u001b[0m     \u001b[38;5;28mself\u001b[39m\u001b[38;5;241m.\u001b[39mconfig \u001b[38;5;241m=\u001b[39m config\n",
      "File \u001b[1;32mC:\\ProgramData\\anaconda3\\Lib\\site-packages\\sqlalchemy\\engine\\result.py:700\u001b[0m, in \u001b[0;36m_WithKeys.keys\u001b[1;34m(self)\u001b[0m\n\u001b[0;32m    683\u001b[0m \u001b[38;5;28;01mdef\u001b[39;00m \u001b[38;5;21mkeys\u001b[39m(\u001b[38;5;28mself\u001b[39m):\n\u001b[0;32m    684\u001b[0m \u001b[38;5;250m    \u001b[39m\u001b[38;5;124;03m\"\"\"Return an iterable view which yields the string keys that would\u001b[39;00m\n\u001b[0;32m    685\u001b[0m \u001b[38;5;124;03m    be represented by each :class:`.Row`.\u001b[39;00m\n\u001b[0;32m    686\u001b[0m \n\u001b[1;32m   (...)\u001b[0m\n\u001b[0;32m    698\u001b[0m \n\u001b[0;32m    699\u001b[0m \u001b[38;5;124;03m    \"\"\"\u001b[39;00m\n\u001b[1;32m--> 700\u001b[0m     \u001b[38;5;28;01mreturn\u001b[39;00m \u001b[38;5;28mself\u001b[39m\u001b[38;5;241m.\u001b[39m_metadata\u001b[38;5;241m.\u001b[39mkeys\n",
      "File \u001b[1;32mC:\\ProgramData\\anaconda3\\Lib\\site-packages\\sqlalchemy\\engine\\cursor.py:1201\u001b[0m, in \u001b[0;36m_NoResultMetaData.keys\u001b[1;34m(self)\u001b[0m\n\u001b[0;32m   1199\u001b[0m \u001b[38;5;129m@property\u001b[39m\n\u001b[0;32m   1200\u001b[0m \u001b[38;5;28;01mdef\u001b[39;00m \u001b[38;5;21mkeys\u001b[39m(\u001b[38;5;28mself\u001b[39m):\n\u001b[1;32m-> 1201\u001b[0m     \u001b[38;5;28mself\u001b[39m\u001b[38;5;241m.\u001b[39m_we_dont_return_rows()\n",
      "File \u001b[1;32mC:\\ProgramData\\anaconda3\\Lib\\site-packages\\sqlalchemy\\engine\\cursor.py:1178\u001b[0m, in \u001b[0;36m_NoResultMetaData._we_dont_return_rows\u001b[1;34m(self, err)\u001b[0m\n\u001b[0;32m   1177\u001b[0m \u001b[38;5;28;01mdef\u001b[39;00m \u001b[38;5;21m_we_dont_return_rows\u001b[39m(\u001b[38;5;28mself\u001b[39m, err\u001b[38;5;241m=\u001b[39m\u001b[38;5;28;01mNone\u001b[39;00m):\n\u001b[1;32m-> 1178\u001b[0m     util\u001b[38;5;241m.\u001b[39mraise_(\n\u001b[0;32m   1179\u001b[0m         exc\u001b[38;5;241m.\u001b[39mResourceClosedError(\n\u001b[0;32m   1180\u001b[0m             \u001b[38;5;124m\"\u001b[39m\u001b[38;5;124mThis result object does not return rows. \u001b[39m\u001b[38;5;124m\"\u001b[39m\n\u001b[0;32m   1181\u001b[0m             \u001b[38;5;124m\"\u001b[39m\u001b[38;5;124mIt has been closed automatically.\u001b[39m\u001b[38;5;124m\"\u001b[39m\n\u001b[0;32m   1182\u001b[0m         ),\n\u001b[0;32m   1183\u001b[0m         replace_context\u001b[38;5;241m=\u001b[39merr,\n\u001b[0;32m   1184\u001b[0m     )\n",
      "File \u001b[1;32mC:\\ProgramData\\anaconda3\\Lib\\site-packages\\sqlalchemy\\util\\compat.py:211\u001b[0m, in \u001b[0;36mraise_\u001b[1;34m(***failed resolving arguments***)\u001b[0m\n\u001b[0;32m    208\u001b[0m     exception\u001b[38;5;241m.\u001b[39m__cause__ \u001b[38;5;241m=\u001b[39m replace_context\n\u001b[0;32m    210\u001b[0m \u001b[38;5;28;01mtry\u001b[39;00m:\n\u001b[1;32m--> 211\u001b[0m     \u001b[38;5;28;01mraise\u001b[39;00m exception\n\u001b[0;32m    212\u001b[0m \u001b[38;5;28;01mfinally\u001b[39;00m:\n\u001b[0;32m    213\u001b[0m     \u001b[38;5;66;03m# credit to\u001b[39;00m\n\u001b[0;32m    214\u001b[0m     \u001b[38;5;66;03m# https://cosmicpercolator.com/2016/01/13/exception-leaks-in-python-2-and-3/\u001b[39;00m\n\u001b[0;32m    215\u001b[0m     \u001b[38;5;66;03m# as the __traceback__ object creates a cycle\u001b[39;00m\n\u001b[0;32m    216\u001b[0m     \u001b[38;5;28;01mdel\u001b[39;00m exception, replace_context, from_, with_traceback\n",
      "\u001b[1;31mResourceClosedError\u001b[0m: This result object does not return rows. It has been closed automatically."
     ]
    }
   ],
   "source": [
    "%%sql\n",
    "\n",
    "CREATE VIEW Support_Person_Stats AS\n",
    "SELECT COUNT(c.SupportRepId) Count_of_Customers_Serviced , e.EmployeeId, e.LastName\n",
    "FROM customers c \n",
    "INNER JOIN employees e\n",
    "ON c.SupportRepId = e.EmployeeId\n",
    "GROUP BY e.EmployeeId;"
   ]
  },
  {
   "cell_type": "markdown",
   "id": "c2a7b88d",
   "metadata": {},
   "source": [
    "* Note: Because views are added to the main database after they are created, if we want to perform the `CREATE VIEW` commands again, we must first drop the prior view to prevent receiving a 'VIEW already exists' error."
   ]
  },
  {
   "cell_type": "markdown",
   "id": "6d8d9bdd",
   "metadata": {},
   "source": [
    "<div align=\"center\" style=\" font-size: 80%; text-align: center; margin: 0 auto\">\n",
    "<img src=\"https://raw.githubusercontent.com/Explore-AI/Pictures/master/ExploreAI_logos/EAI_Blue_Dark.png\"  style=\"width:200px\";/>\n",
    "</div>"
   ]
  }
 ],
 "metadata": {
  "kernelspec": {
   "display_name": "Python 3 (ipykernel)",
   "language": "python",
   "name": "python3"
  },
  "language_info": {
   "codemirror_mode": {
    "name": "ipython",
    "version": 3
   },
   "file_extension": ".py",
   "mimetype": "text/x-python",
   "name": "python",
   "nbconvert_exporter": "python",
   "pygments_lexer": "ipython3",
   "version": "3.11.5"
  }
 },
 "nbformat": 4,
 "nbformat_minor": 5
}
